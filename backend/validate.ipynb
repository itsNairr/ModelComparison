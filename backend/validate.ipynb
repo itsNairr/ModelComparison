{
 "cells": [
  {
   "cell_type": "code",
   "execution_count": 1,
   "metadata": {},
   "outputs": [],
   "source": [
    "from model_class import process_image, CaptioningModel\n",
    "from tensorflow.keras.applications.vgg16 import VGG16\n",
    "from tensorflow.keras.models import Model\n",
    "from tensorflow.keras.preprocessing.text import tokenizer_from_json\n",
    "import json"
   ]
  },
  {
   "cell_type": "markdown",
   "metadata": {},
   "source": [
    "# Run this code block as soon as the website is open to initialize tokenizer and image feature extractor"
   ]
  },
  {
   "cell_type": "code",
   "execution_count": 2,
   "metadata": {},
   "outputs": [
    {
     "name": "stdout",
     "output_type": "stream",
     "text": [
      "Loading model...\n",
      "Loading tokenizer...\n",
      "Initialization complete\n"
     ]
    }
   ],
   "source": [
    "# This needs to run upon opening the website\n",
    "image_path = 'resources/test_image2.jpg'\n",
    "\n",
    "print(\"Loading model...\")\n",
    "vgg_model = VGG16()\n",
    "vgg_model = Model(inputs=vgg_model.inputs, outputs=vgg_model.layers[-2].output)\n",
    "processed = process_image(image_path, vgg_model)\n",
    "print(\"Loading tokenizer...\")\n",
    "tokenizer = tokenizer_from_json(json.load(open('resources/tokenizer.json')))\n",
    "# print(\"Initialization complete\")"
   ]
  },
  {
   "cell_type": "markdown",
   "metadata": {},
   "source": [
    "# Here is an example of predicting a caption using the models"
   ]
  },
  {
   "cell_type": "code",
   "execution_count": 3,
   "metadata": {},
   "outputs": [
    {
     "name": "stdout",
     "output_type": "stream",
     "text": [
      "two dogs are playing in the grass\n",
      "black dog and brown dog are playing tug o war with tennis ball\n",
      "two dogs are playing with each other on the street\n"
     ]
    }
   ],
   "source": [
    "# Inference section example\n",
    "lstm_epoch3 = CaptioningModel('lstm_models/LSTM_epoch3.h5', tokenizer)\n",
    "print(lstm_epoch3.predict_caption(processed))\n",
    "\n",
    "rnn_epoch21 = CaptioningModel('rnn_models/rnn_epoch21.h5', tokenizer)\n",
    "print(rnn_epoch21.predict_caption(processed))\n",
    "\n",
    "gru_epoch18 = CaptioningModel('gru_models/gru_epoch18.h5', tokenizer)\n",
    "print(gru_epoch18.predict_caption(processed))"
   ]
  },
  {
   "cell_type": "markdown",
   "metadata": {},
   "source": [
    "# Example of iterating through each model's different training versions and predicting"
   ]
  },
  {
   "cell_type": "code",
   "execution_count": 4,
   "metadata": {},
   "outputs": [
    {
     "name": "stdout",
     "output_type": "stream",
     "text": [
      "two dogs are playing with each other\n",
      "two dogs are playing tug of war with cats in the background\n",
      "two dogs are playing on the floor\n",
      "two dogs are playing tug o war with ball\n",
      "two dogs are playing together on the sidewalk\n",
      "black dog and brown dog are playing tug o war with tennis ball in its mouth\n",
      "black dog and brown dog are playing tug o war with tennis ball\n"
     ]
    }
   ],
   "source": [
    "rnn_dict = {}\n",
    "for i in range(3, 22, 3):\n",
    "    rnn_dict[i] = CaptioningModel(f'rnn_models/RNN_epoch{i}.h5', tokenizer)\n",
    "\n",
    "for i in range(3, 22, 3):\n",
    "    print(rnn_dict[i].predict_caption(processed))"
   ]
  }
 ],
 "metadata": {
  "kernelspec": {
   "display_name": "Python 3",
   "language": "python",
   "name": "python3"
  },
  "language_info": {
   "codemirror_mode": {
    "name": "ipython",
    "version": 3
   },
   "file_extension": ".py",
   "mimetype": "text/x-python",
   "name": "python",
   "nbconvert_exporter": "python",
   "pygments_lexer": "ipython3",
   "version": "3.8.10"
  }
 },
 "nbformat": 4,
 "nbformat_minor": 2
}
